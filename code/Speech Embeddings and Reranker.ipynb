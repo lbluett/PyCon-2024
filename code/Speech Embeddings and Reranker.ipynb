{
 "cells": [
  {
   "cell_type": "code",
   "execution_count": 3,
   "id": "4cf14eff",
   "metadata": {},
   "outputs": [],
   "source": [
    "import pandas as pd\n",
    "from sentence_transformers import SentenceTransformer, util, CrossEncoder\n",
    "from torch import nn\n",
    "\n",
    "df = pd.read_csv('pycon_2024_sessions.csv')\n",
    "\n",
    "# Load a pre-trained sentence transformer model\n",
    "embedding_model = SentenceTransformer('BAAI/bge-small-en-v1.5')\n",
    "\n",
    "cross_encoder = CrossEncoder('cross-encoder/ms-marco-MiniLM-L-12-v2', default_activation_function=nn.Sigmoid())\n",
    "# Compute embeddings for all descriptions\n",
    "embeddings = embedding_model.encode(df['Description'].tolist(), convert_to_tensor=True)"
   ]
  },
  {
   "cell_type": "code",
   "execution_count": 4,
   "id": "258b7cc5",
   "metadata": {},
   "outputs": [],
   "source": [
    "df['Title'] = df['Title'].str.replace('—PyCon AU 2024', '')"
   ]
  },
  {
   "cell_type": "code",
   "execution_count": 5,
   "id": "10827a1a",
   "metadata": {},
   "outputs": [],
   "source": [
    "related_articles = util.semantic_search(embeddings, embeddings, top_k=11)"
   ]
  },
  {
   "cell_type": "code",
   "execution_count": 6,
   "id": "b67629f3",
   "metadata": {},
   "outputs": [
    {
     "data": {
      "text/plain": [
       "[{'corpus_id': 3, 'score': 1.0},\n",
       " {'corpus_id': 50, 'score': 0.755312442779541},\n",
       " {'corpus_id': 37, 'score': 0.7330219745635986},\n",
       " {'corpus_id': 45, 'score': 0.7285691499710083},\n",
       " {'corpus_id': 10, 'score': 0.7154734134674072},\n",
       " {'corpus_id': 17, 'score': 0.7050767540931702},\n",
       " {'corpus_id': 31, 'score': 0.7000476717948914},\n",
       " {'corpus_id': 0, 'score': 0.6971954107284546},\n",
       " {'corpus_id': 22, 'score': 0.6895818710327148},\n",
       " {'corpus_id': 53, 'score': 0.6803258657455444},\n",
       " {'corpus_id': 47, 'score': 0.6755890846252441}]"
      ]
     },
     "execution_count": 6,
     "metadata": {},
     "output_type": "execute_result"
    }
   ],
   "source": [
    "related_articles[3]"
   ]
  },
  {
   "cell_type": "code",
   "execution_count": 7,
   "id": "90695004",
   "metadata": {},
   "outputs": [],
   "source": [
    "for id, article in enumerate(related_articles):\n",
    "    article_description = df['Description'][id]\n",
    "    cross_enoder_pairs = [[article_description, df['Description'][doc['corpus_id']]] for doc in article]\n",
    "    cross_scores = cross_encoder.predict(cross_enoder_pairs)\n",
    "    for i, doc in enumerate(article):\n",
    "        doc['cross_score'] = cross_scores[i]"
   ]
  },
  {
   "cell_type": "code",
   "execution_count": 8,
   "id": "8d8d8cf7",
   "metadata": {},
   "outputs": [],
   "source": [
    "# Assign a rank based on the 'score' of the related articles using variable called 'position'\n",
    "for id, article in enumerate(related_articles):\n",
    "    for i, doc in enumerate(article):\n",
    "        doc['position'] = i"
   ]
  },
  {
   "cell_type": "code",
   "execution_count": 9,
   "id": "034b4a53",
   "metadata": {},
   "outputs": [
    {
     "name": "stdout",
     "output_type": "stream",
     "text": [
      "0: Django, REST and OpenAPI - a gentle introduction Score: 1.0000001192092896 Cross Score: 0.9997504353523254\n",
      "1: Using Multiple Databases in Django Applications Score: 0.7314367294311523 Cross Score: 0.8777825832366943\n",
      "2: What Python Can Learn From Other Languages Score: 0.7268749475479126 Cross Score: 0.01298246718943119\n",
      "3: Notes on Over-Engineering: A Project Post-Mortem Score: 0.7174100875854492 Cross Score: 0.7139442563056946\n",
      "4: Django on AWS for chump change Score: 0.7087013125419617 Cross Score: 0.490553617477417\n",
      "5: Simplifying Python Web App Operations: Automating K8s Ops with Open Source Score: 0.6891282796859741 Cross Score: 0.011989663355052471\n",
      "6: The perfect setup? Not setup.py! Building packages the right way Score: 0.6867312788963318 Cross Score: 0.009206107817590237\n",
      "7: Better dataframes Score: 0.6783459186553955 Cross Score: 0.007230295799672604\n",
      "8: A Lazy Person's Guide to Building REST Clients or: How I Learned to Stop Worrying and Love Dunder Overrides Score: 0.667650580406189 Cross Score: 0.010738302953541279\n",
      "9: Let's make a working implementation of async functions in Python 2.1, also, why you might want to use a more recent version of Python Score: 0.6659013032913208 Cross Score: 0.0067304763942956924\n",
      "10: Space Django: Migrating and Redesigning a Database while Hunting for Satellites. Score: 0.6648726463317871 Cross Score: 0.26637762784957886\n"
     ]
    }
   ],
   "source": [
    "for item in related_articles[15]:\n",
    "    print(f\"{item['position']}: {df.iloc[item['corpus_id']]['Title']} Score: {item['score']} Cross Score: {item['cross_score']}\")"
   ]
  },
  {
   "cell_type": "code",
   "execution_count": 12,
   "id": "3d1017e4",
   "metadata": {},
   "outputs": [
    {
     "name": "stdout",
     "output_type": "stream",
     "text": [
      "0: Django on AWS for chump change | 1.0000001192092896 | 0.9998844861984253\n",
      "1: Django, REST and OpenAPI - a gentle introduction | 0.7087013125419617 | 0.01146089006215334\n",
      "3: Using Multiple Databases in Django Applications | 0.6755949854850769 | 0.003622404532507062\n",
      "8: Three Django Apps in a Trenchcoat: Writing an event management website with not a lot of time | 0.6145040988922119 | 0.0021197160240262747\n",
      "2: Notes on Over-Engineering: A Project Post-Mortem | 0.6810979843139648 | 0.001782374456524849\n",
      "4: Space Django: Migrating and Redesigning a Database while Hunting for Satellites. | 0.6471710205078125 | 0.0006661649676971138\n",
      "6: A Lazy Person's Guide to Building REST Clients or: How I Learned to Stop Worrying and Love Dunder Overrides | 0.6447445154190063 | 1.342431551165646e-05\n",
      "10: Who tests the testers? Making and testing pipelines | 0.6053941249847412 | 1.3191965081205126e-05\n",
      "7: The perfect setup? Not setup.py! Building packages the right way | 0.6233097314834595 | 1.316238285653526e-05\n",
      "9: Build Your Own IoT! Fun With Python and Raspberry Pi. | 0.6097474098205566 | 1.2931212950206827e-05\n",
      "5: Simplifying Python Web App Operations: Automating K8s Ops with Open Source | 0.6453317403793335 | 1.28219835460186e-05\n"
     ]
    }
   ],
   "source": [
    "for item in sorted(related_articles[14], key=lambda x: x['cross_score'], reverse=True):\n",
    "    print(f\"{item['position']}: {df.iloc[item['corpus_id']]['Title']} | {item['score']} | {item['cross_score']}\")"
   ]
  },
  {
   "cell_type": "code",
   "execution_count": 11,
   "id": "60f79c32-f56e-44ed-ba5f-7af5df7dca05",
   "metadata": {},
   "outputs": [],
   "source": [
    "import pickle\n",
    "with open('related_articles_scores.pkl', 'wb') as f:\n",
    "    pickle.dump(related_articles, f)"
   ]
  },
  {
   "cell_type": "code",
   "execution_count": null,
   "id": "70879fa0",
   "metadata": {},
   "outputs": [],
   "source": []
  }
 ],
 "metadata": {
  "kernelspec": {
   "display_name": "ml",
   "language": "python",
   "name": "python3"
  },
  "language_info": {
   "codemirror_mode": {
    "name": "ipython",
    "version": 3
   },
   "file_extension": ".py",
   "mimetype": "text/x-python",
   "name": "python",
   "nbconvert_exporter": "python",
   "pygments_lexer": "ipython3",
   "version": "3.11.7"
  }
 },
 "nbformat": 4,
 "nbformat_minor": 5
}
