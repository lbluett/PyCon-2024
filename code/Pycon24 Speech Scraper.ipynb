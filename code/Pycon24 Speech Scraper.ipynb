{
 "cells": [
  {
   "cell_type": "code",
   "execution_count": 2,
   "id": "ac7df063-499a-4c96-bb6f-9e3ff9dfcaf1",
   "metadata": {},
   "outputs": [],
   "source": [
    "import requests\n",
    "from bs4 import BeautifulSoup\n",
    "import pandas as pd"
   ]
  },
  {
   "cell_type": "code",
   "execution_count": 3,
   "id": "26a39ded-aaad-4c96-903b-42885b31635e",
   "metadata": {},
   "outputs": [],
   "source": [
    "# Step 1: Fetch the main program page\n",
    "url = \"https://2024.pycon.org.au/program/list/\"\n",
    "response = requests.get(url)\n",
    "soup = BeautifulSoup(response.text, 'html.parser')\n",
    "\n",
    "# Step 2: Extract URLs within the <main> section\n",
    "main_section = soup.find('main')\n",
    "session_links = main_section.find_all('a', href=True)\n",
    "\n",
    "# Step 3 & 4: Extract the title and div content from each session page\n",
    "data = []\n",
    "base_url = \"https://2024.pycon.org.au\"\n",
    "\n",
    "for link in session_links:\n",
    "    session_url = base_url + link['href']\n",
    "    session_response = requests.get(session_url)\n",
    "    session_soup = BeautifulSoup(session_response.text, 'html.parser')\n",
    "    \n",
    "    # Extract title\n",
    "    title = session_soup.find('title').text.strip()\n",
    "    \n",
    "    # Extract content in the div with class \"lede astro-QLKTC6HR\"\n",
    "    lede_content = session_soup.find('div', class_='lede astro-QLKTC6HR')\n",
    "    if lede_content:\n",
    "        description = lede_content.text.strip()\n",
    "    else:\n",
    "        description = \"No description available\"\n",
    "\n",
    "    # Extract name in the div with class \"astro-B3UUC2C6\"\n",
    "    name = session_soup.find('b', class_='astro-B3UUC2C6')\n",
    "    if name:\n",
    "        name = name.text.strip()\n",
    "    else:\n",
    "        name = \"No name available\"\n",
    "    \n",
    "    data.append([title, name, description])\n",
    "\n",
    "# Step 5: Create DataFrame\n",
    "df = pd.DataFrame(data, columns=['Title','Name','Description'])\n"
   ]
  },
  {
   "cell_type": "code",
   "execution_count": 4,
   "id": "97b6d1a6-4c92-4363-8572-abb4b17c0a80",
   "metadata": {},
   "outputs": [],
   "source": [
    "df.to_csv(\"pycon_2024_sessions.csv\", index=False)"
   ]
  }
 ],
 "metadata": {
  "kernelspec": {
   "display_name": "Python 3",
   "language": "python",
   "name": "python3"
  },
  "language_info": {
   "codemirror_mode": {
    "name": "ipython",
    "version": 3
   },
   "file_extension": ".py",
   "mimetype": "text/x-python",
   "name": "python",
   "nbconvert_exporter": "python",
   "pygments_lexer": "ipython3",
   "version": "3.12.7"
  }
 },
 "nbformat": 4,
 "nbformat_minor": 5
}
