{
 "cells": [
  {
   "cell_type": "code",
   "execution_count": 2,
   "id": "ac7df063-499a-4c96-bb6f-9e3ff9dfcaf1",
   "metadata": {},
   "outputs": [],
   "source": [
    "import requests\n",
    "from bs4 import BeautifulSoup\n",
    "import pandas as pd\n"
   ]
  },
  {
   "cell_type": "code",
   "execution_count": 3,
   "id": "26a39ded-aaad-4c96-903b-42885b31635e",
   "metadata": {},
   "outputs": [],
   "source": [
    "# Step 1: Fetch the main program page\n",
    "url = \"https://2024.pycon.org.au/program/list/\"\n",
    "response = requests.get(url)\n",
    "soup = BeautifulSoup(response.text, 'html.parser')\n",
    "\n",
    "# Step 2: Extract URLs within the <main> section\n",
    "main_section = soup.find('main')\n",
    "session_links = main_section.find_all('a', href=True)\n",
    "\n",
    "# Step 3 & 4: Extract the title and div content from each session page\n",
    "data = []\n",
    "base_url = \"https://2024.pycon.org.au\"\n",
    "\n",
    "for link in session_links:\n",
    "    session_url = base_url + link['href']\n",
    "    session_response = requests.get(session_url)\n",
    "    session_soup = BeautifulSoup(session_response.text, 'html.parser')\n",
    "    \n",
    "    # Extract title\n",
    "    title = session_soup.find('title').text.strip()\n",
    "    \n",
    "    # Extract content in the div with class \"lede astro-QLKTC6HR\"\n",
    "    lede_content = session_soup.find('div', class_='lede astro-QLKTC6HR')\n",
    "    if lede_content:\n",
    "        description = lede_content.text.strip()\n",
    "    else:\n",
    "        description = \"No description available\"\n",
    "\n",
    "    # Extract name in the div with class \"astro-B3UUC2C6\"\n",
    "    name = session_soup.find('b', class_='astro-B3UUC2C6')\n",
    "    if name:\n",
    "        name = name.text.strip()\n",
    "    else:\n",
    "        name = \"No name available\"\n",
    "    \n",
    "    data.append([title, name, description])\n",
    "\n",
    "# Step 5: Create DataFrame\n",
    "df = pd.DataFrame(data, columns=['Title','Name','Description'])\n"
   ]
  },
  {
   "cell_type": "code",
   "execution_count": 4,
   "id": "97b6d1a6-4c92-4363-8572-abb4b17c0a80",
   "metadata": {},
   "outputs": [],
   "source": [
    "df.to_csv(\"pycon_2024_sessions.csv\", index=False)"
   ]
  },
  {
   "cell_type": "code",
   "execution_count": 8,
   "id": "3010c7ed-bed8-47a5-aac1-ddece15ef313",
   "metadata": {},
   "outputs": [],
   "source": [
    "# import streamlit as st\n",
    "# import pandas as pd\n",
    "# from sentence_transformers import SentenceTransformer, util\n",
    "# import torch\n",
    "\n",
    "# # Load your data\n",
    "# # df = pd.read_csv('session_data.csv')  # Assuming you have the DataFrame from the previous step\n",
    "\n",
    "# # Load a pre-trained sentence transformer model\n",
    "# model = SentenceTransformer('all-MiniLM-L6-v2')\n",
    "\n",
    "# # Compute embeddings for all descriptions\n",
    "# embeddings = model.encode(df['Description'].tolist(), convert_to_tensor=True)\n",
    "\n",
    "# # Streamlit UI to select a title\n",
    "# selected_title = st.selectbox(\"Select a session title\", df['Title'].values)\n",
    "\n",
    "# # Get the selected description\n",
    "# selected_description = df[df['Title'] == selected_title]['Description'].values[0]\n",
    "\n",
    "# # Compute embedding for the selected description\n",
    "# selected_embedding = model.encode(selected_description, convert_to_tensor=True)\n",
    "\n",
    "# # Compute cosine similarities between the selected description and all others\n",
    "# cosine_similarities = util.pytorch_cos_sim(selected_embedding, embeddings).flatten()\n",
    "\n",
    "# # Find the top N most similar descriptions\n",
    "# N = st.slider(\"Number of similar sessions to display\", 1, 10, 5)\n",
    "# top_n_indices = torch.topk(cosine_similarities, N + 1).indices[1:]  # Skip the first as it's the selected one\n",
    "\n",
    "# # Display the most similar descriptions\n",
    "# st.write(f\"Top {N} most similar sessions to '{selected_title}':\")\n",
    "# for index in top_n_indices:\n",
    "#     index = int(index)  # Convert tensor index to int\n",
    "#     st.write(f\"**{df.iloc[index]['Title']}**\")\n",
    "#     st.write(df.iloc[index]['Description'])\n",
    "#     st.write(\"----\")\n"
   ]
  },
  {
   "cell_type": "code",
   "execution_count": null,
   "id": "60f79c32-f56e-44ed-ba5f-7af5df7dca05",
   "metadata": {},
   "outputs": [],
   "source": []
  }
 ],
 "metadata": {
  "kernelspec": {
   "display_name": "Python 3",
   "language": "python",
   "name": "python3"
  },
  "language_info": {
   "codemirror_mode": {
    "name": "ipython",
    "version": 3
   },
   "file_extension": ".py",
   "mimetype": "text/x-python",
   "name": "python",
   "nbconvert_exporter": "python",
   "pygments_lexer": "ipython3",
   "version": "3.12.7"
  }
 },
 "nbformat": 4,
 "nbformat_minor": 5
}
