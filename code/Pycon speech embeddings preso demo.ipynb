{
 "cells": [
  {
   "cell_type": "code",
   "execution_count": 42,
   "id": "4cf14eff",
   "metadata": {},
   "outputs": [
    {
     "data": {
      "application/vnd.jupyter.widget-view+json": {
       "model_id": "7cef823a339841b6be2f501a220632ce",
       "version_major": 2,
       "version_minor": 0
      },
      "text/plain": [
       "config.json:   0%|          | 0.00/791 [00:00<?, ?B/s]"
      ]
     },
     "metadata": {},
     "output_type": "display_data"
    },
    {
     "data": {
      "application/vnd.jupyter.widget-view+json": {
       "model_id": "c905dd7edeee41e98ea5fdcdfb752ac8",
       "version_major": 2,
       "version_minor": 0
      },
      "text/plain": [
       "pytorch_model.bin:   0%|          | 0.00/134M [00:00<?, ?B/s]"
      ]
     },
     "metadata": {},
     "output_type": "display_data"
    },
    {
     "data": {
      "application/vnd.jupyter.widget-view+json": {
       "model_id": "f168285fb3fd4486a021ac3710ce088c",
       "version_major": 2,
       "version_minor": 0
      },
      "text/plain": [
       "tokenizer_config.json:   0%|          | 0.00/316 [00:00<?, ?B/s]"
      ]
     },
     "metadata": {},
     "output_type": "display_data"
    },
    {
     "data": {
      "application/vnd.jupyter.widget-view+json": {
       "model_id": "7733b182c6bc452884e97af00c96a45c",
       "version_major": 2,
       "version_minor": 0
      },
      "text/plain": [
       "vocab.txt:   0%|          | 0.00/232k [00:00<?, ?B/s]"
      ]
     },
     "metadata": {},
     "output_type": "display_data"
    },
    {
     "data": {
      "application/vnd.jupyter.widget-view+json": {
       "model_id": "c9eb76ebbdad49b4b03319b4d2bb5d1d",
       "version_major": 2,
       "version_minor": 0
      },
      "text/plain": [
       "special_tokens_map.json:   0%|          | 0.00/112 [00:00<?, ?B/s]"
      ]
     },
     "metadata": {},
     "output_type": "display_data"
    }
   ],
   "source": [
    "import pandas as pd\n",
    "from sentence_transformers import SentenceTransformer, util, CrossEncoder\n",
    "\n",
    "df = pd.read_csv('pycon_2024_sessions.csv')\n",
    "\n",
    "# Load a pre-trained sentence transformer model\n",
    "model = SentenceTransformer('all-mpnet-base-v2')\n",
    "\n",
    "cross_encoder = CrossEncoder('cross-encoder/ms-marco-MiniLM-L-12-v2')\n",
    "# Compute embeddings for all descriptions\n",
    "embeddings = model.encode(df['Description'].tolist(), convert_to_tensor=True)"
   ]
  },
  {
   "cell_type": "code",
   "execution_count": 77,
   "id": "a97d4536",
   "metadata": {},
   "outputs": [],
   "source": [
    "# current_speech = df.loc[df['Title'] == 'Embeddings: How Computers Learned to Read—PyCon AU 2024'].index[0]\n",
    "current_speech = 0"
   ]
  },
  {
   "cell_type": "code",
   "execution_count": 78,
   "id": "10827a1a",
   "metadata": {},
   "outputs": [],
   "source": [
    "related_articles = util.semantic_search(embeddings, embeddings, top_k=11)"
   ]
  },
  {
   "cell_type": "code",
   "execution_count": 79,
   "id": "c5836aaa",
   "metadata": {},
   "outputs": [
    {
     "name": "stdout",
     "output_type": "stream",
     "text": [
      "0\n",
      "56\n",
      "15\n",
      "29\n",
      "37\n",
      "6\n",
      "36\n",
      "47\n",
      "7\n",
      "52\n",
      "34\n"
     ]
    }
   ],
   "source": [
    "for item in related_articles[0]:\n",
    "    print(item['corpus_id'])"
   ]
  },
  {
   "cell_type": "code",
   "execution_count": 80,
   "id": "098bae04",
   "metadata": {},
   "outputs": [
    {
     "data": {
      "text/plain": [
       "\"As large language models take over the world, we’re now working alongside machines that can read, write and converse – coding with CoPilot, chatting with ChatGPT and drawing with DALL-E. But how do machines, which fundamentally operate on binary code, achieve such remarkable feats? The answer lies in embeddings. Embeddings allow us to represent complex data - whether it's text, images, or even abstract concepts - as dense vectors of numbers. In this presentation, we'll demystify embeddings and give you a practical and intuitive understanding of how they work.\""
      ]
     },
     "execution_count": 80,
     "metadata": {},
     "output_type": "execute_result"
    }
   ],
   "source": [
    "df['Description'][16]"
   ]
  },
  {
   "cell_type": "code",
   "execution_count": 81,
   "metadata": {},
   "outputs": [
    {
     "data": {
      "text/plain": [
       "[{'corpus_id': 0, 'score': 1.0000001192092896},\n",
       " {'corpus_id': 56, 'score': 0.49006807804107666},\n",
       " {'corpus_id': 15, 'score': 0.4833514094352722},\n",
       " {'corpus_id': 29, 'score': 0.4181976318359375},\n",
       " {'corpus_id': 37, 'score': 0.38466009497642517},\n",
       " {'corpus_id': 6, 'score': 0.3662496507167816},\n",
       " {'corpus_id': 36, 'score': 0.3275807797908783},\n",
       " {'corpus_id': 47, 'score': 0.32603365182876587},\n",
       " {'corpus_id': 7, 'score': 0.32285377383232117},\n",
       " {'corpus_id': 52, 'score': 0.32064878940582275},\n",
       " {'corpus_id': 34, 'score': 0.3084678649902344}]"
      ]
     },
     "execution_count": 81,
     "metadata": {},
     "output_type": "execute_result"
    }
   ],
   "source": [
    "related_articles[0]"
   ]
  },
  {
   "cell_type": "code",
   "execution_count": 82,
   "id": "29a41f0c",
   "metadata": {},
   "outputs": [],
   "source": [
    "ids = [item['corpus_id'] for item in related_articles[0]]"
   ]
  },
  {
   "cell_type": "code",
   "execution_count": 83,
   "id": "5a8742ae",
   "metadata": {},
   "outputs": [
    {
     "data": {
      "text/plain": [
       "[0, 56, 15, 29, 37, 6, 36, 47, 7, 52, 34]"
      ]
     },
     "execution_count": 83,
     "metadata": {},
     "output_type": "execute_result"
    }
   ],
   "source": [
    "ids"
   ]
  },
  {
   "cell_type": "code",
   "execution_count": 84,
   "id": "238f5a24",
   "metadata": {},
   "outputs": [],
   "source": [
    "cross_inp = [[df.iloc[current_speech]['Description'], df.iloc[id]['Description']] for id in ids]"
   ]
  },
  {
   "cell_type": "code",
   "execution_count": 85,
   "id": "729e40aa",
   "metadata": {},
   "outputs": [
    {
     "data": {
      "text/plain": [
       "[[\"Sick of writing lots of dedicated methods to perform the same tasks? Want to write less code? This talk may be for you! \\nREST API's are ubiquitious, and a very useful way to send and recieve data from various services. However, building them can often feel repetitive and boring. So, because I was lazy, and sick of doing it I decided to override specific dunder methods to write less boiler plate code, and keep myself interested.\\nWas it easier? Probably not. Did it require less work than a normal implementation? Also probably not. Did it make my code more readable and portable? Definitely not. But it was fun, and I learnt how overriding Python's magic methods - often called dunders - could be useful. Let me share the lessons I learnt with you and inspire your own ideas.\",\n",
       "  \"Sick of writing lots of dedicated methods to perform the same tasks? Want to write less code? This talk may be for you! \\nREST API's are ubiquitious, and a very useful way to send and recieve data from various services. However, building them can often feel repetitive and boring. So, because I was lazy, and sick of doing it I decided to override specific dunder methods to write less boiler plate code, and keep myself interested.\\nWas it easier? Probably not. Did it require less work than a normal implementation? Also probably not. Did it make my code more readable and portable? Definitely not. But it was fun, and I learnt how overriding Python's magic methods - often called dunders - could be useful. Let me share the lessons I learnt with you and inspire your own ideas.\"],\n",
       " [\"Sick of writing lots of dedicated methods to perform the same tasks? Want to write less code? This talk may be for you! \\nREST API's are ubiquitious, and a very useful way to send and recieve data from various services. However, building them can often feel repetitive and boring. So, because I was lazy, and sick of doing it I decided to override specific dunder methods to write less boiler plate code, and keep myself interested.\\nWas it easier? Probably not. Did it require less work than a normal implementation? Also probably not. Did it make my code more readable and portable? Definitely not. But it was fun, and I learnt how overriding Python's magic methods - often called dunders - could be useful. Let me share the lessons I learnt with you and inspire your own ideas.\",\n",
       "  \"Python is great! It's been a mainstay of web development and systems programming for decades and is on the cutting edge of many fields like scientific computing. But there is always more to improve, both in the language itself and how we use it. This talk will look at how ideas and features from other languages like Ruby, Go, and PHP could be used to improve Python!\"],\n",
       " [\"Sick of writing lots of dedicated methods to perform the same tasks? Want to write less code? This talk may be for you! \\nREST API's are ubiquitious, and a very useful way to send and recieve data from various services. However, building them can often feel repetitive and boring. So, because I was lazy, and sick of doing it I decided to override specific dunder methods to write less boiler plate code, and keep myself interested.\\nWas it easier? Probably not. Did it require less work than a normal implementation? Also probably not. Did it make my code more readable and portable? Definitely not. But it was fun, and I learnt how overriding Python's magic methods - often called dunders - could be useful. Let me share the lessons I learnt with you and inspire your own ideas.\",\n",
       "  \"Django is an all-parts-included framework that is one of the most popular ways of building a website in Python.  But for many websites that's not enough - we also need a REST-based API with an OpenAPI specification so that other programs can read and work with our data.  This talk will cover the Python packages that can provide these facilities and how to integrate them into your existing website.\"],\n",
       " [\"Sick of writing lots of dedicated methods to perform the same tasks? Want to write less code? This talk may be for you! \\nREST API's are ubiquitious, and a very useful way to send and recieve data from various services. However, building them can often feel repetitive and boring. So, because I was lazy, and sick of doing it I decided to override specific dunder methods to write less boiler plate code, and keep myself interested.\\nWas it easier? Probably not. Did it require less work than a normal implementation? Also probably not. Did it make my code more readable and portable? Definitely not. But it was fun, and I learnt how overriding Python's magic methods - often called dunders - could be useful. Let me share the lessons I learnt with you and inspire your own ideas.\",\n",
       "  \"Often I hear people lamenting that Python has too many features and that older versions of Python were better for that exact reason.\\nTo make those people happy, we're going to pick apart the features of Python that enable the async/await syntax, layer by layer, until we happen upon a working implementation of coroutines that will function in Python 2.1.\\nSomewhere in this talk will be some useful discussions about why recent syntactic developments in Python are a good thing actually, but let's not lie, you're reading this abstract for the stunt content. You'll get what you came for.\"],\n",
       " [\"Sick of writing lots of dedicated methods to perform the same tasks? Want to write less code? This talk may be for you! \\nREST API's are ubiquitious, and a very useful way to send and recieve data from various services. However, building them can often feel repetitive and boring. So, because I was lazy, and sick of doing it I decided to override specific dunder methods to write less boiler plate code, and keep myself interested.\\nWas it easier? Probably not. Did it require less work than a normal implementation? Also probably not. Did it make my code more readable and portable? Definitely not. But it was fun, and I learnt how overriding Python's magic methods - often called dunders - could be useful. Let me share the lessons I learnt with you and inspire your own ideas.\",\n",
       "  'An introduction to writing performant Python code - the \"what, why, where, when and many how\\'s\" of performance analysis, testing, tools and techniques.'],\n",
       " [\"Sick of writing lots of dedicated methods to perform the same tasks? Want to write less code? This talk may be for you! \\nREST API's are ubiquitious, and a very useful way to send and recieve data from various services. However, building them can often feel repetitive and boring. So, because I was lazy, and sick of doing it I decided to override specific dunder methods to write less boiler plate code, and keep myself interested.\\nWas it easier? Probably not. Did it require less work than a normal implementation? Also probably not. Did it make my code more readable and portable? Definitely not. But it was fun, and I learnt how overriding Python's magic methods - often called dunders - could be useful. Let me share the lessons I learnt with you and inspire your own ideas.\",\n",
       "  'Dataframes are an abstraction that proven extremely useful for data analysis in dynamic languages like S, R, Python, and Julia. The Pandas package has been dominant in Python for around 15 years but its design is now showing its age. There is now a vibrant and messy ecosystem of potential disruptors to the status quo for data analysis tasks in Python.\\nThis talk will help you make sense of the mess. It will give you a comprehensive review of the strengths and weaknesses of the challengers, including Polars, Ibis, Vaex, Modin, Dask, and the PySpark Pandas API (formerly known as Koalas). It will also review efforts to unify the PyData landscape such as Apache Arrow, the dataframe interchange protocol, Narwhals, and the Ibis project from the original author of Pandas, Wes McKinney.'],\n",
       " [\"Sick of writing lots of dedicated methods to perform the same tasks? Want to write less code? This talk may be for you! \\nREST API's are ubiquitious, and a very useful way to send and recieve data from various services. However, building them can often feel repetitive and boring. So, because I was lazy, and sick of doing it I decided to override specific dunder methods to write less boiler plate code, and keep myself interested.\\nWas it easier? Probably not. Did it require less work than a normal implementation? Also probably not. Did it make my code more readable and portable? Definitely not. But it was fun, and I learnt how overriding Python's magic methods - often called dunders - could be useful. Let me share the lessons I learnt with you and inspire your own ideas.\",\n",
       "  \"Join me for a retrospective on a reusable Django app for providing shared database multi-tenancy, complete with automatic tenant-specific queryset filtering, automatic tenant selection middleware, REST framework support, and comprehensive test coverage. This app, despite its sophistication, was never used in production. Let's explore why it was ultimately deemed over-engineered and unnecessary, and what lessons we can learn from this experience.\"],\n",
       " [\"Sick of writing lots of dedicated methods to perform the same tasks? Want to write less code? This talk may be for you! \\nREST API's are ubiquitious, and a very useful way to send and recieve data from various services. However, building them can often feel repetitive and boring. So, because I was lazy, and sick of doing it I decided to override specific dunder methods to write less boiler plate code, and keep myself interested.\\nWas it easier? Probably not. Did it require less work than a normal implementation? Also probably not. Did it make my code more readable and portable? Definitely not. But it was fun, and I learnt how overriding Python's magic methods - often called dunders - could be useful. Let me share the lessons I learnt with you and inspire your own ideas.\",\n",
       "  \"Everyone loves package management! Python's packaging systems have continued to evolve over the years. Specifications such as environment markers, custom backends, and static build configurations have been introduced. Additionally new package managers like Poetry and Hatch have emerged.\\nYet despite the updates, many projects are still living in the 2010s - using a setup.py file to specify the build configuration for their package. setup.py is notoriously difficult to learn and a common vector for launching attacks during install.\\nThis talk will discuss why it's time to move away from using setup.py and how to do it.\\nWe will see how setup.py is used and abused - from downloading huge datasets (cough AI cough), modifying the system, and most critically how malicious payloads can be included to execute when setup.py is evaluated. Arbitrary code in setup.py makes security analysis harder and creates more work for PyPI administrators.\\nThe talk will detail the new (as of 7 years ago) methods of describing build configurations in pyproject.toml and setup.cfg, giving examples of how to use these methods. The examples will include how to achieve what once required dynamic code to include data like readme contents, version numbers and requirements. The limits of pyproject.toml and setup.cfg will also be covered.\\nFinally, the talk will outline how moving away from setup.py improves the Python packaging universe, how it makes life easier for ensuring Python security, and what can be done to drive adoption of pyproject.toml.\"],\n",
       " [\"Sick of writing lots of dedicated methods to perform the same tasks? Want to write less code? This talk may be for you! \\nREST API's are ubiquitious, and a very useful way to send and recieve data from various services. However, building them can often feel repetitive and boring. So, because I was lazy, and sick of doing it I decided to override specific dunder methods to write less boiler plate code, and keep myself interested.\\nWas it easier? Probably not. Did it require less work than a normal implementation? Also probably not. Did it make my code more readable and portable? Definitely not. But it was fun, and I learnt how overriding Python's magic methods - often called dunders - could be useful. Let me share the lessons I learnt with you and inspire your own ideas.\",\n",
       "  'This talk will discuss building a basic streaming data pipeline for IoT applications using Python and Raspberry Pi. Attendees will have the opportunity to learn about Raspberry Pi, Apache Kafka + Kafka Connect, and solar power generation.'],\n",
       " [\"Sick of writing lots of dedicated methods to perform the same tasks? Want to write less code? This talk may be for you! \\nREST API's are ubiquitious, and a very useful way to send and recieve data from various services. However, building them can often feel repetitive and boring. So, because I was lazy, and sick of doing it I decided to override specific dunder methods to write less boiler plate code, and keep myself interested.\\nWas it easier? Probably not. Did it require less work than a normal implementation? Also probably not. Did it make my code more readable and portable? Definitely not. But it was fun, and I learnt how overriding Python's magic methods - often called dunders - could be useful. Let me share the lessons I learnt with you and inspire your own ideas.\",\n",
       "  'Over six years ago, three engineers from Sydney started working on an insurtech platform with global ambitions. They chose Django, even though two of them had no prior experience with the framework. Nevertheless, the project became a success, affirming that choosing Django was a great technical decision.\\nThis is a real-life story about the challenges the team faced while scaling the project and changing the database architecture, all while maintaining uninterrupted services for millions of customers. We will cover some of the key technical decisions the team made, how Django supported us in migrating from a single database to a multi-database architecture, and examine the architectural benefits of using multiple databases in data-intensive applications.'],\n",
       " [\"Sick of writing lots of dedicated methods to perform the same tasks? Want to write less code? This talk may be for you! \\nREST API's are ubiquitious, and a very useful way to send and recieve data from various services. However, building them can often feel repetitive and boring. So, because I was lazy, and sick of doing it I decided to override specific dunder methods to write less boiler plate code, and keep myself interested.\\nWas it easier? Probably not. Did it require less work than a normal implementation? Also probably not. Did it make my code more readable and portable? Definitely not. But it was fun, and I learnt how overriding Python's magic methods - often called dunders - could be useful. Let me share the lessons I learnt with you and inspire your own ideas.\",\n",
       "  'MicroPython continues to grow in popularity. But why? What is it about this pint-sized version of Python that makes it so darn compelling? What are the best bits of MicroPython? \\nJoin me in this talk for a whirlwind tour of some of the most exciting features of this modern embedded programming language.']]"
      ]
     },
     "execution_count": 85,
     "metadata": {},
     "output_type": "execute_result"
    }
   ],
   "source": [
    "cross_inp"
   ]
  },
  {
   "cell_type": "code",
   "execution_count": 86,
   "id": "7ecb9f66",
   "metadata": {},
   "outputs": [],
   "source": [
    "cross_scores = cross_encoder.predict(cross_inp)"
   ]
  },
  {
   "cell_type": "code",
   "execution_count": 87,
   "id": "f57db682",
   "metadata": {},
   "outputs": [
    {
     "data": {
      "text/plain": [
       "array([ 6.2196136, -4.108149 , -3.261598 , -3.4519835, -2.692816 ,\n",
       "       -3.2781358, -3.8076372, -2.0923877, -3.176807 , -4.3924775,\n",
       "       -4.4125705], dtype=float32)"
      ]
     },
     "execution_count": 87,
     "metadata": {},
     "output_type": "execute_result"
    }
   ],
   "source": [
    "cross_scores"
   ]
  },
  {
   "cell_type": "code",
   "execution_count": 88,
   "id": "9a3e99c4",
   "metadata": {},
   "outputs": [],
   "source": [
    "# Sort results by the cross-encoder scores\n",
    "for idx in range(len(cross_scores)):\n",
    "    related_articles[current_speech][idx]['cross-score'] = cross_scores[idx]"
   ]
  },
  {
   "cell_type": "code",
   "execution_count": 89,
   "id": "9b35445c",
   "metadata": {},
   "outputs": [
    {
     "data": {
      "text/plain": [
       "[{'corpus_id': 0, 'score': 1.0000001192092896, 'cross-score': 6.2196136},\n",
       " {'corpus_id': 56, 'score': 0.49006807804107666, 'cross-score': -4.108149},\n",
       " {'corpus_id': 15, 'score': 0.4833514094352722, 'cross-score': -3.261598},\n",
       " {'corpus_id': 29, 'score': 0.4181976318359375, 'cross-score': -3.4519835},\n",
       " {'corpus_id': 37, 'score': 0.38466009497642517, 'cross-score': -2.692816},\n",
       " {'corpus_id': 6, 'score': 0.3662496507167816, 'cross-score': -3.2781358},\n",
       " {'corpus_id': 36, 'score': 0.3275807797908783, 'cross-score': -3.8076372},\n",
       " {'corpus_id': 47, 'score': 0.32603365182876587, 'cross-score': -2.0923877},\n",
       " {'corpus_id': 7, 'score': 0.32285377383232117, 'cross-score': -3.176807},\n",
       " {'corpus_id': 52, 'score': 0.32064878940582275, 'cross-score': -4.3924775},\n",
       " {'corpus_id': 34, 'score': 0.3084678649902344, 'cross-score': -4.4125705}]"
      ]
     },
     "execution_count": 89,
     "metadata": {},
     "output_type": "execute_result"
    }
   ],
   "source": [
    "related_articles[current_speech]"
   ]
  },
  {
   "cell_type": "code",
   "execution_count": 90,
   "id": "8345bf24",
   "metadata": {},
   "outputs": [
    {
     "data": {
      "text/plain": [
       "[{'corpus_id': 0, 'score': 1.0000001192092896, 'cross-score': 6.2196136},\n",
       " {'corpus_id': 47, 'score': 0.32603365182876587, 'cross-score': -2.0923877},\n",
       " {'corpus_id': 37, 'score': 0.38466009497642517, 'cross-score': -2.692816},\n",
       " {'corpus_id': 7, 'score': 0.32285377383232117, 'cross-score': -3.176807},\n",
       " {'corpus_id': 15, 'score': 0.4833514094352722, 'cross-score': -3.261598},\n",
       " {'corpus_id': 6, 'score': 0.3662496507167816, 'cross-score': -3.2781358},\n",
       " {'corpus_id': 29, 'score': 0.4181976318359375, 'cross-score': -3.4519835},\n",
       " {'corpus_id': 36, 'score': 0.3275807797908783, 'cross-score': -3.8076372},\n",
       " {'corpus_id': 56, 'score': 0.49006807804107666, 'cross-score': -4.108149},\n",
       " {'corpus_id': 52, 'score': 0.32064878940582275, 'cross-score': -4.3924775},\n",
       " {'corpus_id': 34, 'score': 0.3084678649902344, 'cross-score': -4.4125705}]"
      ]
     },
     "execution_count": 90,
     "metadata": {},
     "output_type": "execute_result"
    }
   ],
   "source": [
    "sorted(related_articles[current_speech], key=lambda x: x['cross-score'], reverse=True)"
   ]
  },
  {
   "cell_type": "code",
   "execution_count": 91,
   "id": "034b4a53",
   "metadata": {},
   "outputs": [
    {
     "name": "stdout",
     "output_type": "stream",
     "text": [
      "Title: A Lazy Person's Guide to Building REST Clients or: How I Learned to Stop Worrying and Love Dunder Overrides—PyCon AU 2024 - Cross-encoder Score: 1.0000001192092896\n",
      "Title: What Python Can Learn From Other Languages—PyCon AU 2024 - Cross-encoder Score: 0.49006807804107666\n",
      "Title: Django, REST and OpenAPI - a gentle introduction—PyCon AU 2024 - Cross-encoder Score: 0.4833514094352722\n",
      "Title: Let's make a working implementation of async functions in Python 2.1, also, why you might want to use a more recent version of Python—PyCon AU 2024 - Cross-encoder Score: 0.4181976318359375\n",
      "Title: Performant Python—PyCon AU 2024 - Cross-encoder Score: 0.38466009497642517\n",
      "Title: Better dataframes—PyCon AU 2024 - Cross-encoder Score: 0.3662496507167816\n",
      "Title: Notes on Over-Engineering: A Project Post-Mortem—PyCon AU 2024 - Cross-encoder Score: 0.3275807797908783\n",
      "Title: The perfect setup? Not setup.py! Building packages the right way—PyCon AU 2024 - Cross-encoder Score: 0.32603365182876587\n",
      "Title: Build Your Own IoT! Fun With Python and Raspberry Pi.—PyCon AU 2024 - Cross-encoder Score: 0.32285377383232117\n",
      "Title: Using Multiple Databases in Django Applications—PyCon AU 2024 - Cross-encoder Score: 0.32064878940582275\n",
      "Title: MicroPython: The best bits!—PyCon AU 2024 - Cross-encoder Score: 0.3084678649902344\n"
     ]
    }
   ],
   "source": [
    "for item in related_articles[current_speech]:\n",
    "    print(f\"Title: {df.iloc[item['corpus_id']]['Title']} - Cross-encoder Score: {item['score']}\")"
   ]
  },
  {
   "cell_type": "code",
   "execution_count": 92,
   "id": "3d1017e4",
   "metadata": {},
   "outputs": [
    {
     "name": "stdout",
     "output_type": "stream",
     "text": [
      "Title: A Lazy Person's Guide to Building REST Clients or: How I Learned to Stop Worrying and Love Dunder Overrides—PyCon AU 2024 - Cross-encoder Score: 6.219613552093506\n",
      "Title: The perfect setup? Not setup.py! Building packages the right way—PyCon AU 2024 - Cross-encoder Score: -2.0923876762390137\n",
      "Title: Performant Python—PyCon AU 2024 - Cross-encoder Score: -2.6928160190582275\n",
      "Title: Build Your Own IoT! Fun With Python and Raspberry Pi.—PyCon AU 2024 - Cross-encoder Score: -3.176806926727295\n",
      "Title: Django, REST and OpenAPI - a gentle introduction—PyCon AU 2024 - Cross-encoder Score: -3.2615981101989746\n",
      "Title: Better dataframes—PyCon AU 2024 - Cross-encoder Score: -3.2781357765197754\n",
      "Title: Let's make a working implementation of async functions in Python 2.1, also, why you might want to use a more recent version of Python—PyCon AU 2024 - Cross-encoder Score: -3.4519834518432617\n",
      "Title: Notes on Over-Engineering: A Project Post-Mortem—PyCon AU 2024 - Cross-encoder Score: -3.8076372146606445\n",
      "Title: What Python Can Learn From Other Languages—PyCon AU 2024 - Cross-encoder Score: -4.10814905166626\n",
      "Title: Using Multiple Databases in Django Applications—PyCon AU 2024 - Cross-encoder Score: -4.392477512359619\n",
      "Title: MicroPython: The best bits!—PyCon AU 2024 - Cross-encoder Score: -4.412570476531982\n"
     ]
    }
   ],
   "source": [
    "for item in sorted(related_articles[current_speech], key=lambda x: x['cross-score'], reverse=True):\n",
    "    print(f\"Title: {df.iloc[item['corpus_id']]['Title']} - Cross-encoder Score: {item['cross-score']}\")"
   ]
  },
  {
   "cell_type": "code",
   "execution_count": 21,
   "id": "81207da5",
   "metadata": {},
   "outputs": [],
   "source": [
    "temp = df.iloc[ids]"
   ]
  },
  {
   "cell_type": "code",
   "execution_count": null,
   "id": "892a2914",
   "metadata": {},
   "outputs": [],
   "source": [
    "temp"
   ]
  },
  {
   "cell_type": "code",
   "execution_count": 1,
   "id": "3010c7ed-bed8-47a5-aac1-ddece15ef313",
   "metadata": {},
   "outputs": [
    {
     "ename": "ModuleNotFoundError",
     "evalue": "No module named 'streamlit'",
     "output_type": "error",
     "traceback": [
      "\u001b[1;31m---------------------------------------------------------------------------\u001b[0m",
      "\u001b[1;31mModuleNotFoundError\u001b[0m                       Traceback (most recent call last)",
      "Cell \u001b[1;32mIn[1], line 1\u001b[0m\n\u001b[1;32m----> 1\u001b[0m \u001b[38;5;28;01mimport\u001b[39;00m \u001b[38;5;21;01mstreamlit\u001b[39;00m \u001b[38;5;28;01mas\u001b[39;00m \u001b[38;5;21;01mst\u001b[39;00m\n\u001b[0;32m      2\u001b[0m \u001b[38;5;28;01mimport\u001b[39;00m \u001b[38;5;21;01mpandas\u001b[39;00m \u001b[38;5;28;01mas\u001b[39;00m \u001b[38;5;21;01mpd\u001b[39;00m\n\u001b[0;32m      3\u001b[0m \u001b[38;5;28;01mfrom\u001b[39;00m \u001b[38;5;21;01msentence_transformers\u001b[39;00m \u001b[38;5;28;01mimport\u001b[39;00m SentenceTransformer, util\n",
      "\u001b[1;31mModuleNotFoundError\u001b[0m: No module named 'streamlit'"
     ]
    }
   ],
   "source": [
    "import streamlit as st\n",
    "import pandas as pd\n",
    "from sentence_transformers import SentenceTransformer, util\n",
    "import torch\n",
    "\n",
    "# Load your data\n",
    "df = pd.read_csv('pycon_2024_sessions.csv')  # Assuming you have the DataFrame from the previous step\n",
    "\n",
    "# Load a pre-trained sentence transformer model\n",
    "model = SentenceTransformer('all-mpnet-base-v2')\n",
    "\n",
    "# Compute embeddings for all descriptions\n",
    "embeddings = model.encode(df['Description'].tolist(), convert_to_tensor=True)\n",
    "df['embedding'] = embeddings.tolist()\n",
    "\n",
    "related_articles = util.semantic_search(embeddings, embeddings, top_k=11)\n",
    "\n",
    "# Streamlit UI to select a title\n",
    "selected_title = st.selectbox(\"Select a session title\", df['Title'].values)\n",
    "\n",
    "# Get the selected description\n",
    "# selected_description = df[df['Title'] == selected_title]['Description'].values[0]\n",
    "\n",
    "# get selected id\n",
    "selected_id = df[df['Title'] == selected_title].index[0]\n",
    "\n",
    "related_ids = [item['corpus_id'] for item in related_articles[selected_id][0]]\n",
    "\n",
    "# Compute embedding for the selected description\n",
    "# selected_embedding = model.encode(selected_description, convert_to_tensor=True)\n",
    "\n",
    "# Compute cosine similarities between the selected description and all others\n",
    "# cosine_similarities = util.pytorch_cos_sim(selected_embedding, embeddings).flatten()\n",
    "\n",
    "# Find the top N most similar descriptions\n",
    "N = st.slider(\"Number of similar sessions to display\", 1, 10, 5)\n",
    "top_n_indices = related_ids[1:N + 1]  # Skip the first as it's the selected one\n",
    "\n",
    "# Display the most similar descriptions\n",
    "st.write(f\"Top {N} most similar sessions to '{selected_title}':\")\n",
    "for index in top_n_indices:\n",
    "    index = int(index)  # Convert tensor index to int\n",
    "    st.write(f\"**{df.iloc[index]['Title']}**\")\n",
    "    st.write(df.iloc[index]['Description'])\n",
    "    st.write(\"----\")\n"
   ]
  },
  {
   "cell_type": "code",
   "execution_count": null,
   "id": "60f79c32-f56e-44ed-ba5f-7af5df7dca05",
   "metadata": {},
   "outputs": [],
   "source": []
  }
 ],
 "metadata": {
  "kernelspec": {
   "display_name": "ml",
   "language": "python",
   "name": "python3"
  },
  "language_info": {
   "codemirror_mode": {
    "name": "ipython",
    "version": 3
   },
   "file_extension": ".py",
   "mimetype": "text/x-python",
   "name": "python",
   "nbconvert_exporter": "python",
   "pygments_lexer": "ipython3",
   "version": "3.11.7"
  }
 },
 "nbformat": 4,
 "nbformat_minor": 5
}
